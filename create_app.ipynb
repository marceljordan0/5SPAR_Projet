{
 "cells": [
  {
   "cell_type": "code",
   "execution_count": null,
   "id": "3f16de43-538c-42f5-a54e-01a03031d624",
   "metadata": {},
   "outputs": [],
   "source": [
    "import requests\n",
    "\n",
    "url = 'https://mastodon.social/api/v1/apps'\n",
    "headers = {\n",
    "    'Content-Type': 'application/x-www-form-urlencoded'\n",
    "}\n",
    "data = {\n",
    "    'client_name': '5SPARK',\n",
    "    'redirect_uris': 'urn:ietf:wg:oauth:2.0:oob',\n",
    "    'scopes': 'read write follow'\n",
    "}\n",
    "\n",
    "response = requests.post(url, headers=headers, data=data)\n",
    "\n",
    "if response.status_code == 200:\n",
    "    app_data = response.json()\n",
    "    print('Client ID:', app_data['client_id'])\n",
    "    print('Client Secret:', app_data['client_secret'])\n",
    "else:\n",
    "    print('Erreur:', response.status_code, response.json())\n"
   ]
  }
 ],
 "metadata": {
  "kernelspec": {
   "display_name": "Python 3 (ipykernel)",
   "language": "python",
   "name": "python3"
  },
  "language_info": {
   "codemirror_mode": {
    "name": "ipython",
    "version": 3
   },
   "file_extension": ".py",
   "mimetype": "text/x-python",
   "name": "python",
   "nbconvert_exporter": "python",
   "pygments_lexer": "ipython3",
   "version": "3.11.6"
  }
 },
 "nbformat": 4,
 "nbformat_minor": 5
}
