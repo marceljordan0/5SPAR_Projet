{
 "cells": [
  {
   "cell_type": "code",
   "execution_count": null,
   "id": "2023f57d-e63a-42a7-9dcc-a728afe73139",
   "metadata": {},
   "outputs": [],
   "source": [
    "import requests\n",
    "\n",
    "# URL de l'instance Mastodon\n",
    "mastodon_instance_url = \"https://mastodon.social\"\n",
    "\n",
    "# Paramètres d'application obtenus lors de l'enregistrement\n",
    "client_id = \"izb9ti8Xlag6iauwHUAVORXSjL-l554tsFaZvU4RDII\" \n",
    "client_secret = \"kXrzsq8fXTZEyIFbu1mcRCfDWY-8_ZJcLmaWJQRSGLg\"  \n",
    "username = \"njiwoua2@gmail.com\"  \n",
    "password = \"azertyui\"  \n",
    "\n",
    "# Fait la demande pour obtenir le jeton d'accès\n",
    "token_url = f\"{mastodon_instance_url}/oauth/token\"\n",
    "data = {\n",
    "    'client_id': client_id,\n",
    "    'client_secret': client_secret,\n",
    "    'grant_type': 'password',\n",
    "    'username': username,\n",
    "    'password': password,\n",
    "    'scope': 'read write follow'\n",
    "}\n",
    "\n",
    "response = requests.post(token_url, data=data)\n",
    "\n",
    "# Vérifie la réponse\n",
    "if response.status_code == 200:\n",
    "    access_token = response.json().get(\"access_token\")\n",
    "    print(\"Jeton d'accès:\", access_token)\n",
    "else:\n",
    "    print(\"Erreur:\", response.status_code, response.text)\n"
   ]
  }
 ],
 "metadata": {
  "kernelspec": {
   "display_name": "Python 3 (ipykernel)",
   "language": "python",
   "name": "python3"
  },
  "language_info": {
   "codemirror_mode": {
    "name": "ipython",
    "version": 3
   },
   "file_extension": ".py",
   "mimetype": "text/x-python",
   "name": "python",
   "nbconvert_exporter": "python",
   "pygments_lexer": "ipython3",
   "version": "3.11.6"
  }
 },
 "nbformat": 4,
 "nbformat_minor": 5
}
